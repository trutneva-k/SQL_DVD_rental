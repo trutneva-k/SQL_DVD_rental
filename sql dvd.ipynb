{
 "cells": [
  {
   "cell_type": "markdown",
   "id": "638dbd47",
   "metadata": {},
   "source": [
    "Примеры основных базовых методов на SQL postgres на базе проката DVD фильмов\n",
    "\n",
    "Диаграмма \"сущность-связь\" (ERD, от англ. Entity-Relationship Diagram) по ссылке\n",
    "[схема](https://www.postgresqltutorial.com/postgresql-getting-started/postgresql-sample-database/)\n"
   ]
  },
  {
   "cell_type": "code",
   "execution_count": 1,
   "id": "9da64f84",
   "metadata": {},
   "outputs": [],
   "source": [
    "# импортируем библиотеки\n",
    "import pandas as pd\n",
    "import sqlalchemy as sa"
   ]
  },
  {
   "cell_type": "code",
   "execution_count": 2,
   "id": "409e6407",
   "metadata": {},
   "outputs": [],
   "source": [
    "# устанавливаем параметры\n",
    "db_config = {'user': 'postgres', # имя пользователя\n",
    "             'pwd': 'mysecretpassword', # пароль\n",
    "             'host': 'localhost',\n",
    "             'port': 5432, # порт подключения\n",
    "             'db': 'dvdrental' # название базы данных\n",
    "}\n",
    "connection_string = 'postgresql://{user}:{pwd}@{host}:{port}/{db}'.format(**db_config)\n",
    "\n",
    "# сохраняем коннектор\n",
    "engine = sa.create_engine(connection_string, connect_args={})"
   ]
  },
  {
   "cell_type": "code",
   "execution_count": 3,
   "id": "0ec4d1e3",
   "metadata": {},
   "outputs": [],
   "source": [
    "# чтобы выполнить SQL-запрос, пишем функцию с использованием Pandas\n",
    "def get_sql_data(query:str, engine:sa.engine.base.Engine=engine) -> pd.DataFrame:\n",
    "    '''Открываем соединение, получаем данные из sql, закрываем соединение'''\n",
    "    with engine.connect() as con:\n",
    "        return pd.read_sql(sql=sa.text(query), con = con)"
   ]
  },
  {
   "cell_type": "code",
   "execution_count": 4,
   "id": "69d7ca0a",
   "metadata": {},
   "outputs": [],
   "source": [
    "# Установка параметров отображения\n",
    "pd.set_option('display.max_colwidth', None)"
   ]
  },
  {
   "cell_type": "markdown",
   "id": "a8d8862d",
   "metadata": {},
   "source": [
    "#### Запросы"
   ]
  },
  {
   "cell_type": "code",
   "execution_count": 15,
   "id": "a365353e",
   "metadata": {},
   "outputs": [
    {
     "data": {
      "text/html": [
       "<div>\n",
       "<style scoped>\n",
       "    .dataframe tbody tr th:only-of-type {\n",
       "        vertical-align: middle;\n",
       "    }\n",
       "\n",
       "    .dataframe tbody tr th {\n",
       "        vertical-align: top;\n",
       "    }\n",
       "\n",
       "    .dataframe thead th {\n",
       "        text-align: right;\n",
       "    }\n",
       "</style>\n",
       "<table border=\"1\" class=\"dataframe\">\n",
       "  <thead>\n",
       "    <tr style=\"text-align: right;\">\n",
       "      <th></th>\n",
       "      <th>payment_id</th>\n",
       "      <th>customer_id</th>\n",
       "      <th>staff_id</th>\n",
       "      <th>rental_id</th>\n",
       "      <th>amount</th>\n",
       "      <th>payment_date</th>\n",
       "    </tr>\n",
       "  </thead>\n",
       "  <tbody>\n",
       "    <tr>\n",
       "      <th>0</th>\n",
       "      <td>17503</td>\n",
       "      <td>341</td>\n",
       "      <td>2</td>\n",
       "      <td>1520</td>\n",
       "      <td>7.99</td>\n",
       "      <td>2007-02-15 22:25:46.996577</td>\n",
       "    </tr>\n",
       "    <tr>\n",
       "      <th>1</th>\n",
       "      <td>17504</td>\n",
       "      <td>341</td>\n",
       "      <td>1</td>\n",
       "      <td>1778</td>\n",
       "      <td>1.99</td>\n",
       "      <td>2007-02-16 17:23:14.996577</td>\n",
       "    </tr>\n",
       "    <tr>\n",
       "      <th>2</th>\n",
       "      <td>17505</td>\n",
       "      <td>341</td>\n",
       "      <td>1</td>\n",
       "      <td>1849</td>\n",
       "      <td>7.99</td>\n",
       "      <td>2007-02-16 22:41:45.996577</td>\n",
       "    </tr>\n",
       "    <tr>\n",
       "      <th>3</th>\n",
       "      <td>17506</td>\n",
       "      <td>341</td>\n",
       "      <td>2</td>\n",
       "      <td>2829</td>\n",
       "      <td>2.99</td>\n",
       "      <td>2007-02-19 19:39:56.996577</td>\n",
       "    </tr>\n",
       "    <tr>\n",
       "      <th>4</th>\n",
       "      <td>17507</td>\n",
       "      <td>341</td>\n",
       "      <td>2</td>\n",
       "      <td>3130</td>\n",
       "      <td>7.99</td>\n",
       "      <td>2007-02-20 17:31:48.996577</td>\n",
       "    </tr>\n",
       "  </tbody>\n",
       "</table>\n",
       "</div>"
      ],
      "text/plain": [
       "   payment_id  customer_id  staff_id  rental_id  amount  \\\n",
       "0       17503          341         2       1520    7.99   \n",
       "1       17504          341         1       1778    1.99   \n",
       "2       17505          341         1       1849    7.99   \n",
       "3       17506          341         2       2829    2.99   \n",
       "4       17507          341         2       3130    7.99   \n",
       "\n",
       "                payment_date  \n",
       "0 2007-02-15 22:25:46.996577  \n",
       "1 2007-02-16 17:23:14.996577  \n",
       "2 2007-02-16 22:41:45.996577  \n",
       "3 2007-02-19 19:39:56.996577  \n",
       "4 2007-02-20 17:31:48.996577  "
      ]
     },
     "execution_count": 15,
     "metadata": {},
     "output_type": "execute_result"
    }
   ],
   "source": [
    "# формируем запрос и выводим данные\n",
    "query = '''\n",
    "SELECT *\n",
    "FROM payment\n",
    "limit 5\n",
    "'''\n",
    "get_sql_data(query)"
   ]
  },
  {
   "cell_type": "markdown",
   "id": "ce5253af",
   "metadata": {},
   "source": [
    "Сколько принес денег каждый покупатель?"
   ]
  },
  {
   "cell_type": "code",
   "execution_count": 11,
   "id": "b5bab84a",
   "metadata": {},
   "outputs": [
    {
     "data": {
      "text/html": [
       "<div>\n",
       "<style scoped>\n",
       "    .dataframe tbody tr th:only-of-type {\n",
       "        vertical-align: middle;\n",
       "    }\n",
       "\n",
       "    .dataframe tbody tr th {\n",
       "        vertical-align: top;\n",
       "    }\n",
       "\n",
       "    .dataframe thead th {\n",
       "        text-align: right;\n",
       "    }\n",
       "</style>\n",
       "<table border=\"1\" class=\"dataframe\">\n",
       "  <thead>\n",
       "    <tr style=\"text-align: right;\">\n",
       "      <th></th>\n",
       "      <th>customer_id</th>\n",
       "      <th>sum</th>\n",
       "    </tr>\n",
       "  </thead>\n",
       "  <tbody>\n",
       "    <tr>\n",
       "      <th>0</th>\n",
       "      <td>1</td>\n",
       "      <td>114.70</td>\n",
       "    </tr>\n",
       "    <tr>\n",
       "      <th>1</th>\n",
       "      <td>2</td>\n",
       "      <td>123.74</td>\n",
       "    </tr>\n",
       "    <tr>\n",
       "      <th>2</th>\n",
       "      <td>3</td>\n",
       "      <td>130.76</td>\n",
       "    </tr>\n",
       "    <tr>\n",
       "      <th>3</th>\n",
       "      <td>4</td>\n",
       "      <td>81.78</td>\n",
       "    </tr>\n",
       "    <tr>\n",
       "      <th>4</th>\n",
       "      <td>5</td>\n",
       "      <td>134.65</td>\n",
       "    </tr>\n",
       "  </tbody>\n",
       "</table>\n",
       "</div>"
      ],
      "text/plain": [
       "   customer_id     sum\n",
       "0            1  114.70\n",
       "1            2  123.74\n",
       "2            3  130.76\n",
       "3            4   81.78\n",
       "4            5  134.65"
      ]
     },
     "execution_count": 11,
     "metadata": {},
     "output_type": "execute_result"
    }
   ],
   "source": [
    "# формируем запрос и выводим данные\n",
    "query = '''\n",
    "SELECT customer_id, sum(amount)\n",
    "FROM payment\n",
    "GROUP BY customer_id\n",
    "limit 5\n",
    "\n",
    "'''\n",
    "get_sql_data(query)"
   ]
  },
  {
   "cell_type": "markdown",
   "id": "e154f492",
   "metadata": {},
   "source": [
    "Сколько транзакций в день проходит?"
   ]
  },
  {
   "cell_type": "code",
   "execution_count": 22,
   "id": "3e83d2ee",
   "metadata": {},
   "outputs": [
    {
     "data": {
      "text/html": [
       "<div>\n",
       "<style scoped>\n",
       "    .dataframe tbody tr th:only-of-type {\n",
       "        vertical-align: middle;\n",
       "    }\n",
       "\n",
       "    .dataframe tbody tr th {\n",
       "        vertical-align: top;\n",
       "    }\n",
       "\n",
       "    .dataframe thead th {\n",
       "        text-align: right;\n",
       "    }\n",
       "</style>\n",
       "<table border=\"1\" class=\"dataframe\">\n",
       "  <thead>\n",
       "    <tr style=\"text-align: right;\">\n",
       "      <th></th>\n",
       "      <th>date</th>\n",
       "      <th>amount</th>\n",
       "    </tr>\n",
       "  </thead>\n",
       "  <tbody>\n",
       "    <tr>\n",
       "      <th>0</th>\n",
       "      <td>2007-02-14</td>\n",
       "      <td>116.73</td>\n",
       "    </tr>\n",
       "    <tr>\n",
       "      <th>1</th>\n",
       "      <td>2007-02-15</td>\n",
       "      <td>1188.92</td>\n",
       "    </tr>\n",
       "    <tr>\n",
       "      <th>2</th>\n",
       "      <td>2007-02-16</td>\n",
       "      <td>1154.18</td>\n",
       "    </tr>\n",
       "    <tr>\n",
       "      <th>3</th>\n",
       "      <td>2007-02-17</td>\n",
       "      <td>1188.17</td>\n",
       "    </tr>\n",
       "    <tr>\n",
       "      <th>4</th>\n",
       "      <td>2007-02-18</td>\n",
       "      <td>1275.98</td>\n",
       "    </tr>\n",
       "  </tbody>\n",
       "</table>\n",
       "</div>"
      ],
      "text/plain": [
       "        date   amount\n",
       "0 2007-02-14   116.73\n",
       "1 2007-02-15  1188.92\n",
       "2 2007-02-16  1154.18\n",
       "3 2007-02-17  1188.17\n",
       "4 2007-02-18  1275.98"
      ]
     },
     "execution_count": 22,
     "metadata": {},
     "output_type": "execute_result"
    }
   ],
   "source": [
    "# формируем запрос и выводим данные\n",
    "query = '''\n",
    "SELECT  DATE_TRUNC('day', payment_date) as date, sum(amount) as amount\n",
    "FROM payment\n",
    "GROUP BY DATE_TRUNC('day', payment_date)\n",
    "order by date\n",
    "limit 5\n",
    "\n",
    "'''\n",
    "get_sql_data(query)"
   ]
  },
  {
   "cell_type": "markdown",
   "id": "e550a19c",
   "metadata": {},
   "source": [
    "Нужны электронные адреса тех кто платил 14 февраля?"
   ]
  },
  {
   "cell_type": "code",
   "execution_count": 25,
   "id": "cc029bcf",
   "metadata": {},
   "outputs": [
    {
     "data": {
      "text/html": [
       "<div>\n",
       "<style scoped>\n",
       "    .dataframe tbody tr th:only-of-type {\n",
       "        vertical-align: middle;\n",
       "    }\n",
       "\n",
       "    .dataframe tbody tr th {\n",
       "        vertical-align: top;\n",
       "    }\n",
       "\n",
       "    .dataframe thead th {\n",
       "        text-align: right;\n",
       "    }\n",
       "</style>\n",
       "<table border=\"1\" class=\"dataframe\">\n",
       "  <thead>\n",
       "    <tr style=\"text-align: right;\">\n",
       "      <th></th>\n",
       "      <th>email</th>\n",
       "    </tr>\n",
       "  </thead>\n",
       "  <tbody>\n",
       "    <tr>\n",
       "      <th>0</th>\n",
       "      <td>alma.austin@sakilacustomer.org</td>\n",
       "    </tr>\n",
       "    <tr>\n",
       "      <th>1</th>\n",
       "      <td>amber.dixon@sakilacustomer.org</td>\n",
       "    </tr>\n",
       "    <tr>\n",
       "      <th>2</th>\n",
       "      <td>audrey.ray@sakilacustomer.org</td>\n",
       "    </tr>\n",
       "    <tr>\n",
       "      <th>3</th>\n",
       "      <td>catherine.campbell@sakilacustomer.org</td>\n",
       "    </tr>\n",
       "    <tr>\n",
       "      <th>4</th>\n",
       "      <td>cecil.vines@sakilacustomer.org</td>\n",
       "    </tr>\n",
       "  </tbody>\n",
       "</table>\n",
       "</div>"
      ],
      "text/plain": [
       "                                   email\n",
       "0         alma.austin@sakilacustomer.org\n",
       "1         amber.dixon@sakilacustomer.org\n",
       "2          audrey.ray@sakilacustomer.org\n",
       "3  catherine.campbell@sakilacustomer.org\n",
       "4         cecil.vines@sakilacustomer.org"
      ]
     },
     "execution_count": 25,
     "metadata": {},
     "output_type": "execute_result"
    }
   ],
   "source": [
    "# формируем запрос и выводим данные\n",
    "query = '''\n",
    "SELECT  distinct email\n",
    "FROM payment p\n",
    "join customer c on p.customer_id = c.customer_id\n",
    "where DATE_TRUNC('day', payment_date) = '2007-02-14'\n",
    "limit 5\n",
    "\n",
    "'''\n",
    "get_sql_data(query)"
   ]
  },
  {
   "cell_type": "code",
   "execution_count": null,
   "id": "ac872aac",
   "metadata": {},
   "outputs": [],
   "source": []
  }
 ],
 "metadata": {
  "kernelspec": {
   "display_name": "Python 3 (ipykernel)",
   "language": "python",
   "name": "python3"
  },
  "language_info": {
   "codemirror_mode": {
    "name": "ipython",
    "version": 3
   },
   "file_extension": ".py",
   "mimetype": "text/x-python",
   "name": "python",
   "nbconvert_exporter": "python",
   "pygments_lexer": "ipython3",
   "version": "3.10.9"
  }
 },
 "nbformat": 4,
 "nbformat_minor": 5
}
